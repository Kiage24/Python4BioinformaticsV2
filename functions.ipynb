{
 "cells": [
  {
   "cell_type": "code",
   "execution_count": 21,
   "id": "21c28809-954d-45ad-883e-020ea3f1ad41",
   "metadata": {},
   "outputs": [],
   "source": [
    "def calculateGC_content(DNA):\n",
    "    GC_content = print((DNA.count('G') + DNA.count('C'))/ len(DNA) * 100)\n",
    "    return GC_content"
   ]
  },
  {
   "cell_type": "code",
   "execution_count": 22,
   "id": "e160fad7-2cae-4ba9-b3c1-61c908b78c58",
   "metadata": {},
   "outputs": [
    {
     "name": "stdout",
     "output_type": "stream",
     "text": [
      "0.0\n"
     ]
    }
   ],
   "source": [
    "calculateGC_content('ggggg')"
   ]
  },
  {
   "cell_type": "code",
   "execution_count": null,
   "id": "ca4795ae-b67e-4643-97cc-87abf22f5603",
   "metadata": {},
   "outputs": [],
   "source": []
  }
 ],
 "metadata": {
  "kernelspec": {
   "display_name": "Python 3 (ipykernel)",
   "language": "python",
   "name": "python3"
  },
  "language_info": {
   "codemirror_mode": {
    "name": "ipython",
    "version": 3
   },
   "file_extension": ".py",
   "mimetype": "text/x-python",
   "name": "python",
   "nbconvert_exporter": "python",
   "pygments_lexer": "ipython3",
   "version": "3.9.7"
  }
 },
 "nbformat": 4,
 "nbformat_minor": 5
}
