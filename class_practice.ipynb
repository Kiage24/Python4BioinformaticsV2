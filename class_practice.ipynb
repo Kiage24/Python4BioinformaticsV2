{
 "cells": [
  {
   "cell_type": "markdown",
   "id": "2df8a4f5-8c76-49ab-a83a-6f86b3b7d6d6",
   "metadata": {},
   "source": [
    "## Exercise 1\n",
    "# Calculate GC AND AT content of trna"
   ]
  },
  {
   "cell_type": "code",
   "execution_count": 9,
   "id": "8436b36d-5bad-4092-bff7-bc7c480994b5",
   "metadata": {},
   "outputs": [
    {
     "name": "stdout",
     "output_type": "stream",
     "text": [
      "56.52173913043478\n",
      "43.47826086956522\n"
     ]
    }
   ],
   "source": [
    "trna='AAGGGCTTAGCTTAATTAAAGTGGCTGATTTGCGTTCAGTTGATGCAGAGTGGGGTTTTGCAGTCCTTA'\n",
    "print((trna.count('A') + trna.count('T')) / len(trna) * 100)\n",
    "print((trna.count('G') + trna.count('C'))/ len(trna) * 100)"
   ]
  },
  {
   "cell_type": "code",
   "execution_count": 18,
   "id": "f7d56bae-1825-468a-928e-baf876ad96a5",
   "metadata": {},
   "outputs": [
    {
     "name": "stdout",
     "output_type": "stream",
     "text": [
      "43.47826086956522%\n"
     ]
    }
   ],
   "source": [
    "A_count = trna.count('A')\n",
    "T_count = trna.count('T')\n",
    "G_count = trna.count('G')\n",
    "C_count = trna.count('C')\n",
    "print(((G_count + C_count) / len(trna) * 100), '%' , sep='')"
   ]
  },
  {
   "cell_type": "markdown",
   "id": "95ef40f3-d94a-4df9-b89b-9d8ff52fb39d",
   "metadata": {},
   "source": [
    "## Exercise 2\n",
    "## Given the following amino acid sequence (LVADVAEKTDLSKAKATMNKMDEVIDAVFA), find the first, last and the 5th amino acids in the sequence. \n"
   ]
  },
  {
   "cell_type": "code",
   "execution_count": 20,
   "id": "95e55480-c130-48be-a8c3-6c17e18bfe82",
   "metadata": {},
   "outputs": [
    {
     "name": "stdout",
     "output_type": "stream",
     "text": [
      "The first, last and 5th amino acids are L A V\n"
     ]
    }
   ],
   "source": [
    "s = 'LVADVAEKTDLSKAKATMNKMDEVIDAVFA'\n",
    "print ('The first, last and 5th amino acids are', s[0] , s[-1], s[4])\n",
    "        "
   ]
  },
  {
   "cell_type": "markdown",
   "id": "2659e32b-565a-4d88-8823-64dc51e56e44",
   "metadata": {},
   "source": [
    "## The above amino acid is a bacterial restriction enzyme that recognizes \"TCCGGA\". Find the first restriction site in the following sequence: AAAAATCCCGAGGCGGCTATATAGGGCTCCGGAGGCGTAATATAAAA"
   ]
  },
  {
   "cell_type": "code",
   "execution_count": 19,
   "id": "47dccc1f-a4b0-47a0-9fb7-2b0c0173fa41",
   "metadata": {},
   "outputs": [
    {
     "name": "stdout",
     "output_type": "stream",
     "text": [
      "The first restriction site is at  27\n"
     ]
    }
   ],
   "source": [
    "s = 'AAAAATCCCGAGGCGGCTATATAGGGCTCCGGAGGCGTAATATAAAA'\n",
    "print('The first restriction site is at ' , s.index('TCCGGA') )"
   ]
  },
  {
   "cell_type": "code",
   "execution_count": 21,
   "id": "1778f792-cca9-4d9b-aba8-0f6b42498b5f",
   "metadata": {},
   "outputs": [
    {
     "name": "stdout",
     "output_type": "stream",
     "text": [
      "The first restriction site is at  27\n"
     ]
    }
   ],
   "source": [
    "s = 'AAAAATCCCGAGGCGGCTATATAGGGCTCCGGAGGCGTAATATAAAA'\n",
    "print('The first restriction site is at ' , s.find('TCCGGA') )"
   ]
  },
  {
   "cell_type": "markdown",
   "id": "bbc1c26f-048c-45ed-bbc5-6796c5e45206",
   "metadata": {},
   "source": [
    "## Exercise 3\n",
    "## Using strings, lists, tuples and dictionaries concepts, find the reverse complement of AAAAATCCCGAGGCGGCTATATAGGGCTCCGGAGGCGTAATATAAAA\n"
   ]
  },
  {
   "cell_type": "code",
   "execution_count": 26,
   "id": "a1291758-8237-4c60-884e-4da2894dd999",
   "metadata": {},
   "outputs": [
    {
     "name": "stdout",
     "output_type": "stream",
     "text": [
      "<reversed object at 0x7fe6945c6700>\n"
     ]
    }
   ],
   "source": [
    "dna = 'AAAAATCCCGAGGCGGCTATATAGGGCTCCGGAGGCGTAATATAAA'\n",
    "reversed_dna = ''.join(reversed(dna))\n",
    "print(reversed_dna)\n"
   ]
  },
  {
   "cell_type": "code",
   "execution_count": 22,
   "id": "0e70867c-d100-4315-a35e-ad395e5c8b13",
   "metadata": {},
   "outputs": [
    {
     "data": {
      "text/plain": [
       "'AAATATAATGCGGAGGCCTCGGGATATATCGGCGGAGCCCTAAAAA'"
      ]
     },
     "execution_count": 22,
     "metadata": {},
     "output_type": "execute_result"
    }
   ],
   "source": [
    "dna = 'AAAAATCCCGAGGCGGCTATATAGGGCTCCGGAGGCGTAATATAAA'\n",
    "dna[::-1]"
   ]
  },
  {
   "cell_type": "code",
   "execution_count": 9,
   "id": "4f0dd74f-f118-4318-bd6e-c6eb89f0454a",
   "metadata": {},
   "outputs": [
    {
     "name": "stdout",
     "output_type": "stream",
     "text": [
      "TTTATATTACGCCTCCGGAGCCCTATATAGCCGCCTCGGGATTTTT\n"
     ]
    }
   ],
   "source": [
    "comp_dna = [ ]\n",
    "reversed_dna = 'AAATATAATGCGGAGGCCTCGGGATATATCGGCGGAGCCCTAAAAA'\n",
    "\n",
    "for nuc in reversed_dna:\n",
    "    if nuc == 'A':\n",
    "        comp_dna.append('T')\n",
    "    elif nuc == 'T':\n",
    "        comp_dna.append('A')\n",
    "    elif nuc == 'G':\n",
    "        comp_dna.append('C')\n",
    "    elif nuc == 'C':\n",
    "        comp_dna.append('G')\n",
    "    \n",
    "print(''.join(comp_dna))"
   ]
  },
  {
   "cell_type": "markdown",
   "id": "51e421d9-ae6c-43e8-9f10-7017ee04d0e6",
   "metadata": {},
   "source": [
    "## Exercise 4\n",
    "## Expand the code to accomodate deposits."
   ]
  },
  {
   "cell_type": "code",
   "execution_count": 146,
   "id": "6b18088d-eb61-4937-b384-67dffaad3160",
   "metadata": {},
   "outputs": [
    {
     "name": "stdin",
     "output_type": "stream",
     "text": [
      "Please enter 'b' to check balance 'd' to deposit or 'w' to withdraw:  w\n"
     ]
    },
    {
     "ename": "NameError",
     "evalue": "name 'deposit' is not defined",
     "output_type": "error",
     "traceback": [
      "\u001b[0;31m---------------------------------------------------------------------------\u001b[0m",
      "\u001b[0;31mNameError\u001b[0m                                 Traceback (most recent call last)",
      "\u001b[0;32m/tmp/ipykernel_4591/1918371493.py\u001b[0m in \u001b[0;36m<module>\u001b[0;34m\u001b[0m\n\u001b[1;32m     14\u001b[0m                 \u001b[0mprint\u001b[0m\u001b[0;34m(\u001b[0m\u001b[0;34m'Only accepts floats or integers'\u001b[0m\u001b[0;34m)\u001b[0m\u001b[0;34m\u001b[0m\u001b[0;34m\u001b[0m\u001b[0m\n\u001b[1;32m     15\u001b[0m         \u001b[0;32melse\u001b[0m\u001b[0;34m:\u001b[0m\u001b[0;34m\u001b[0m\u001b[0;34m\u001b[0m\u001b[0m\n\u001b[0;32m---> 16\u001b[0;31m             \u001b[0macountbal\u001b[0m \u001b[0;34m=\u001b[0m \u001b[0macountbal\u001b[0m \u001b[0;34m+\u001b[0m \u001b[0mdeposit\u001b[0m\u001b[0;34m\u001b[0m\u001b[0;34m\u001b[0m\u001b[0m\n\u001b[0m\u001b[1;32m     17\u001b[0m             \u001b[0mprint\u001b[0m\u001b[0;34m(\u001b[0m\u001b[0;34m'Anything else?'\u001b[0m\u001b[0;34m)\u001b[0m\u001b[0;34m\u001b[0m\u001b[0;34m\u001b[0m\u001b[0m\n\u001b[1;32m     18\u001b[0m             \u001b[0mchoice\u001b[0m \u001b[0;34m=\u001b[0m \u001b[0minput\u001b[0m\u001b[0;34m(\u001b[0m\u001b[0;34m\"Enter b for balance, w to withdraw or q to quit: \"\u001b[0m\u001b[0;34m)\u001b[0m\u001b[0;34m\u001b[0m\u001b[0;34m\u001b[0m\u001b[0m\n",
      "\u001b[0;31mNameError\u001b[0m: name 'deposit' is not defined"
     ]
    }
   ],
   "source": [
    "acountbal = 50000\n",
    "choice = input(\"Please enter 'b' to check balance 'd' to deposit or 'w' to withdraw: \")\n",
    "while choice != 'q':\n",
    "    if choice.lower() in ('w','b','d'):\n",
    "        if choice.lower() == 'b':\n",
    "            print(\"Your balance is: %d\" % acountbal)\n",
    "            print(\"Anything else?\")\n",
    "            choice = input(\"Enter b for balance, w to withdraw or q to quit: \")\n",
    "            print(choice.lower())\n",
    "        elif choice.lower() == 'd':\n",
    "            try:\n",
    "                deposit = float(input(\"Enter amount to deposit: \"))\n",
    "            except ValueError as wrong_input:\n",
    "                print('Only accepts floats or integers')\n",
    "        else:\n",
    "            acountbal = acountbal + deposit\n",
    "            print('Anything else?')\n",
    "            choice = input(\"Enter b for balance, w to withdraw or q to quit: \")\n",
    "            try:\n",
    "                withdraw = float(input(\"Enter amount to withdraw: \"))\n",
    "            except ValueError as wrong_choice:\n",
    "                print('Only accepts integers or floats')\n",
    "                \n",
    "                if withdraw <= acountbal:\n",
    "                    print(\"here is your: %.2f\" % withdraw)\n",
    "                    acountbal = acountbal - withdraw\n",
    "                    print(\"Anything else?\")\n",
    "                    choice = input(\"Enter b for balance, w to withdraw or q to quit: \")\n",
    "                #choice = 'q'\n",
    "            else:\n",
    "                print(\"You have insufficient funds: %.2f\" % acountbal)\n",
    "    else:\n",
    "        print(\"Wrong choice!\")\n",
    "        choice = input(\"Please enter 'b' to check balance or 'w' to withdraw: \")"
   ]
  },
  {
   "cell_type": "markdown",
   "id": "4f29db09-fffa-48ac-bd02-d2581810c063",
   "metadata": {},
   "source": [
    "## EXERCISE 5\n",
    "\n",
    "Create a while loop that starts with x = 0 and increments x until x is equal to 5. Each iteration should print to the console.\n"
   ]
  },
  {
   "cell_type": "code",
   "execution_count": 130,
   "id": "c09bd055-faca-40e1-a993-1cefb62aad20",
   "metadata": {},
   "outputs": [
    {
     "name": "stdout",
     "output_type": "stream",
     "text": [
      "0\n",
      "1\n",
      "2\n",
      "3\n",
      "4\n",
      "5\n"
     ]
    }
   ],
   "source": [
    "x = 0\n",
    "while x <=5:\n",
    "    print(x)\n",
    "    x = x + 1\n",
    "    "
   ]
  },
  {
   "cell_type": "markdown",
   "id": "1cce2567-40dc-44b5-9094-231803155f39",
   "metadata": {},
   "source": [
    "Repeat the previous problem, but the loop will skip printing x = 5 to the console but will print values of x from 6 to 10."
   ]
  },
  {
   "cell_type": "code",
   "execution_count": 128,
   "id": "80a55153-d2e6-4db2-8e49-9362bc5e199b",
   "metadata": {},
   "outputs": [
    {
     "name": "stdout",
     "output_type": "stream",
     "text": [
      "0\n",
      "1\n",
      "2\n",
      "3\n",
      "4\n",
      "6\n",
      "7\n",
      "8\n",
      "9\n",
      "10\n"
     ]
    }
   ],
   "source": [
    "x = 0\n",
    "while x <=10:\n",
    "    if x == 5:\n",
    "        x +=1\n",
    "        continue\n",
    "    print(x)\n",
    "    x = x + 1\n",
    "    "
   ]
  },
  {
   "cell_type": "markdown",
   "id": "b89b09ef-4f4d-43b3-975f-dfb7555a582e",
   "metadata": {},
   "source": [
    "Create a for loop that prints values from 4 to 10 to the console."
   ]
  },
  {
   "cell_type": "code",
   "execution_count": 14,
   "id": "0c3ce6aa-b033-4b33-aa2c-d2df418af317",
   "metadata": {},
   "outputs": [
    {
     "name": "stdout",
     "output_type": "stream",
     "text": [
      "4\n",
      "5\n",
      "6\n",
      "7\n",
      "8\n",
      "9\n",
      "10\n"
     ]
    }
   ],
   "source": [
    "for x in range(4, 11):\n",
    "    print(x)"
   ]
  },
  {
   "cell_type": "markdown",
   "id": "762be38a-a4d7-4c50-aba2-38a40e641f95",
   "metadata": {},
   "source": [
    "## EXRECISE 6\n",
    "\n",
    "Write a function `percentageGC` that calculates the GC content of a DNA sequence\n",
    "\n",
    "The function should return the %GC content\n",
    "\n",
    "The Function should return a message if the provided sequence is not DNA (This should be checked by a different function, called by your function)\n",
    "\n"
   ]
  },
  {
   "cell_type": "code",
   "execution_count": 18,
   "id": "0a46c4d3-f8b8-4f75-b60a-8c3b5e983bde",
   "metadata": {
    "tags": []
   },
   "outputs": [],
   "source": [
    "def percentageGC(DNA):\n",
    "    GC_content = print((DNA.count('G') + DNA.count('C'))/ len(DNA) * 100)\n",
    "     def nonDNA(DNA):\n",
    "        for x in DNA:\n",
    "            if x not in ['A', 'G', 'T', 'C']:\n",
    "                print('Invalid', + x + 'in DNA.')            \n",
    "    return GC_content\n",
    "    "
   ]
  },
  {
   "cell_type": "code",
   "execution_count": 17,
   "id": "e1c38efb-83d3-488a-a437-ec3f4acf730b",
   "metadata": {},
   "outputs": [
    {
     "name": "stdout",
     "output_type": "stream",
     "text": [
      "43.47826086956522\n"
     ]
    }
   ],
   "source": [
    "trna='AAGGGCTTAGCTTAATTAAAGTGGCTGATTTGCGTTCAGTTGATGCAGAGTGGGGTTTTGCAGTCCTTA'\n",
    "percentageGC(trna)"
   ]
  },
  {
   "cell_type": "code",
   "execution_count": 41,
   "id": "ff95b080-2188-4d5a-8637-7dbde0b9f69d",
   "metadata": {},
   "outputs": [
    {
     "name": "stdout",
     "output_type": "stream",
     "text": [
      "[7, 9, 11, 13, 15, 17, 19, 21, 23, 25, 27, 29, 31, 33, 35]\n"
     ]
    }
   ],
   "source": [
    "my_list = []\n",
    "for i in range(6, 36):\n",
    "    if i%2==1:\n",
    "        my_list.append(i)\n",
    "print(my_list)"
   ]
  },
  {
   "cell_type": "code",
   "execution_count": 46,
   "id": "f903e46b-d8af-425f-b125-5988edb0620c",
   "metadata": {},
   "outputs": [
    {
     "name": "stdout",
     "output_type": "stream",
     "text": [
      "Two=1: One=2: Three=3: Four=4: Five=5: "
     ]
    }
   ],
   "source": [
    "a1 = {'Two': 1, 'One': 2, 'Three': 3, 'Four': 4, 'Five': 5}\n",
    "for name,val in a1.items():\n",
    "    #print(name,val, sep='=' , end=': ')\n",
    "    \n",
    "    \n",
    "    "
   ]
  },
  {
   "cell_type": "markdown",
   "id": "cf3bab5b-c929-4e21-95f0-17277ee940ee",
   "metadata": {},
   "source": [
    "## EXERCISE 7"
   ]
  },
  {
   "cell_type": "markdown",
   "id": "f124bbca-5d10-43e1-816c-cf3a4ee929f4",
   "metadata": {},
   "source": [
    "translate AAAAATCCCGAGGCGGCTATATAGGGCTCCGGAGGCGTAATATAAAA to aa\n"
   ]
  },
  {
   "cell_type": "code",
   "execution_count": 108,
   "id": "496c0d79-3251-4984-a978-88e87da7e23d",
   "metadata": {},
   "outputs": [],
   "source": [
    "DNA = 'AAAAATCCCGAGGCGGCTATATAGGGCTCCGGAGGCGTAATATAAAA'"
   ]
  },
  {
   "cell_type": "markdown",
   "id": "3c57c50f-b755-4f16-a0cb-f9b7d8f2cb1f",
   "metadata": {},
   "source": [
    "Replace T with U."
   ]
  },
  {
   "cell_type": "code",
   "execution_count": 107,
   "id": "2cb18651-1110-442e-aeb6-0e70dbc77a78",
   "metadata": {},
   "outputs": [],
   "source": [
    "DNA = 'AAAAATCCCGAGGCGGCTATATAGGGCTCCGGAGGCGTAATATAAAA'\n",
    "transcribed = DNA.replace('T', 'U')\n",
    "  "
   ]
  },
  {
   "cell_type": "markdown",
   "id": "766047ff-2bdb-445a-a283-b9ea97aba1c6",
   "metadata": {},
   "source": [
    "Convert sequence into codons"
   ]
  },
  {
   "cell_type": "code",
   "execution_count": 118,
   "id": "587596be-5234-4dda-8f09-baf6c0309efc",
   "metadata": {},
   "outputs": [
    {
     "data": {
      "text/plain": [
       "['AAA',\n",
       " 'AAT',\n",
       " 'CCC',\n",
       " 'GAG',\n",
       " 'GCG',\n",
       " 'GCT',\n",
       " 'ATA',\n",
       " 'TAG',\n",
       " 'GGC',\n",
       " 'TCC',\n",
       " 'GGA',\n",
       " 'GGC',\n",
       " 'GTA',\n",
       " 'ATA',\n",
       " 'TAA']"
      ]
     },
     "execution_count": 118,
     "metadata": {},
     "output_type": "execute_result"
    }
   ],
   "source": [
    "codons = []\n",
    "x = 0\n",
    "for i in range(len(DNA)//3):\n",
    "    codons.append(DNA[x:x+3])\n",
    "    x = x + 3\n",
    "    \n",
    "    \n",
    "\n",
    "codons"
   ]
  },
  {
   "cell_type": "markdown",
   "id": "5bf5de57-0bca-4354-817d-c9baa7166864",
   "metadata": {},
   "source": [
    "translate to amino acid"
   ]
  },
  {
   "cell_type": "code",
   "execution_count": 102,
   "id": "986bf0a0-d35e-46a4-9d91-c53abcf57edd",
   "metadata": {
    "tags": []
   },
   "outputs": [
    {
     "name": "stdout",
     "output_type": "stream",
     "text": [
      "K\n",
      "P\n",
      "E\n",
      "A\n",
      "G\n",
      "G\n",
      "G\n"
     ]
    }
   ],
   "source": [
    "my_dict ={\"UUU\":\"F\", \"UUC\":\"F\", \"UUA\":\"L\", \"UUG\":\"L\",\n",
    "    \"UCU\":\"S\", \"UCC\":\"s\", \"UCA\":\"S\", \"UCG\":\"S\",\n",
    "    \"UAU\":\"Y\", \"UAC\":\"Y\", \"UAA\":\"STOP\", \"UAG\":\"STOP\",\n",
    "    \"UGU\":\"C\", \"UGC\":\"C\", \"UGA\":\"STOP\", \"UGG\":\"W\",\n",
    "    \"CUU\":\"L\", \"CUC\":\"L\", \"CUA\":\"L\", \"CUG\":\"L\",\n",
    "    \"CCU\":\"P\", \"CCC\":\"P\", \"CCA\":\"P\", \"CCG\":\"P\",\n",
    "    \"CAU\":\"H\", \"CAC\":\"H\", \"CAA\":\"Q\", \"CAG\":\"Q\",\n",
    "    \"CGU\":\"R\", \"CGC\":\"R\", \"CGA\":\"R\", \"CGG\":\"R\",\n",
    "    \"AUU\":\"I\", \"AUC\":\"I\", \"AUA\":\"I\", \"AUG\":\"M\",\n",
    "    \"ACU\":\"T\", \"ACC\":\"T\", \"ACA\":\"T\", \"ACG\":\"T\",\n",
    "    \"AAU\":\"N\", \"AAC\":\"N\", \"AAA\":\"K\", \"AAG\":\"K\",\n",
    "    \"AGU\":\"S\", \"AGC\":\"S\", \"AGA\":\"R\", \"AGG\":\"R\",\n",
    "    \"GUU\":\"V\", \"GUC\":\"V\", \"GUA\":\"V\", \"GUG\":\"V\",\n",
    "    \"GCU\":\"A\", \"GCC\":\"A\", \"GCA\":\"A\", \"GCG\":\"A\",\n",
    "    \"GAU\":\"D\", \"GAC\":\"D\", \"GAA\":\"E\", \"GAG\":\"E\",\n",
    "    \"GGU\":\"G\", \"GGC\":\"G\", \"GGA\":\"G\", \"GGG\":\"G\",}\n",
    "\n",
    "for i in codons:\n",
    "    if i in my_dict:\n",
    "        print(my_dict[i])\n",
    "\n",
    "\n",
    "\n"
   ]
  },
  {
   "cell_type": "code",
   "execution_count": null,
   "id": "f62061e9-34e1-4fce-9b75-3d3dd24cef5c",
   "metadata": {},
   "outputs": [],
   "source": []
  }
 ],
 "metadata": {
  "kernelspec": {
   "display_name": "Python 3 (ipykernel)",
   "language": "python",
   "name": "python3"
  },
  "language_info": {
   "codemirror_mode": {
    "name": "ipython",
    "version": 3
   },
   "file_extension": ".py",
   "mimetype": "text/x-python",
   "name": "python",
   "nbconvert_exporter": "python",
   "pygments_lexer": "ipython3",
   "version": "3.9.7"
  }
 },
 "nbformat": 4,
 "nbformat_minor": 5
}
