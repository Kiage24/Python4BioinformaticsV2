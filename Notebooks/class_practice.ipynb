{
 "cells": [
  {
   "cell_type": "markdown",
   "id": "2df8a4f5-8c76-49ab-a83a-6f86b3b7d6d6",
   "metadata": {},
   "source": [
    "## Exercise 1\n",
    "# Calculate GC AND AT content of trna"
   ]
  },
  {
   "cell_type": "code",
   "execution_count": null,
   "id": "8436b36d-5bad-4092-bff7-bc7c480994b5",
   "metadata": {},
   "outputs": [],
   "source": [
    "trna='AAGGGCTTAGCTTAATTAAAGTGGCTGATTTGCGTTCAGTTGATGCAGAGTGGGGTTTTGCAGTCCTTA'\n",
    "print(trna.count('A') + trna.count('T') / len(trna) * 100)\n"
   ]
  },
  {
   "cell_type": "code",
   "execution_count": 8,
   "id": "f7d56bae-1825-468a-928e-baf876ad96a5",
   "metadata": {},
   "outputs": [
    {
     "name": "stdout",
     "output_type": "stream",
     "text": [
      "34.04347826086956\n"
     ]
    }
   ],
   "source": [
    "A_count = trna.count('A')\n",
    "T_count = trna.count('T')\n",
    "G_count = trna.count('G')\n",
    "C_count = trna.count('C')\n",
    "print(G_count + C_count / len(trna) * 100)"
   ]
  },
  {
   "cell_type": "markdown",
   "id": "95ef40f3-d94a-4df9-b89b-9d8ff52fb39d",
   "metadata": {},
   "source": [
    "## Exercise 2\n",
    "## Given the following amino acid sequence (LVADVAEKTDLSKAKATMNKMDEVIDAVFA), find the first, last and the 5th amino acids in the sequence. \n"
   ]
  },
  {
   "cell_type": "code",
   "execution_count": 15,
   "id": "95e55480-c130-48be-a8c3-6c17e18bfe82",
   "metadata": {},
   "outputs": [
    {
     "name": "stdout",
     "output_type": "stream",
     "text": [
      "The first, last and 5th amino acids are L A A\n"
     ]
    }
   ],
   "source": [
    "s = 'LVADVAEKTDLSKAKATMNKMDEVIDAVFA'\n",
    "print ('The first, last and 5th amino acids are', s[:1] , s[-1], s[5:6])\n",
    "        "
   ]
  },
  {
   "cell_type": "markdown",
   "id": "2659e32b-565a-4d88-8823-64dc51e56e44",
   "metadata": {},
   "source": [
    "## The above amino acid is a bacterial restriction enzyme that recognizes \"TCCGGA\". Find the first restriction site in the following sequence: AAAAATCCCGAGGCGGCTATATAGGGCTCCGGAGGCGTAATATAAAA"
   ]
  },
  {
   "cell_type": "code",
   "execution_count": 19,
   "id": "47dccc1f-a4b0-47a0-9fb7-2b0c0173fa41",
   "metadata": {},
   "outputs": [
    {
     "name": "stdout",
     "output_type": "stream",
     "text": [
      "The first restriction site is at  27\n"
     ]
    }
   ],
   "source": [
    "s = 'AAAAATCCCGAGGCGGCTATATAGGGCTCCGGAGGCGTAATATAAAA'\n",
    "print('The first restriction site is at ' , s.index('TCCGGA') )"
   ]
  },
  {
   "cell_type": "markdown",
   "id": "bbc1c26f-048c-45ed-bbc5-6796c5e45206",
   "metadata": {},
   "source": [
    "## Exercise 3\n",
    "## Using strings, lists, tuples and dictionaries concepts, find the reverse complement of AAAAATCCCGAGGCGGCTATATAGGGCTCCGGAGGCGTAATATAAAA\n"
   ]
  },
  {
   "cell_type": "code",
   "execution_count": 62,
   "id": "a1291758-8237-4c60-884e-4da2894dd999",
   "metadata": {},
   "outputs": [
    {
     "name": "stdout",
     "output_type": "stream",
     "text": [
      "AAATATAATGCGGAGGCCTCGGGATATATCGGCGGAGCCCTAAAAA\n"
     ]
    }
   ],
   "source": [
    "dna = 'AAAAATCCCGAGGCGGCTATATAGGGCTCCGGAGGCGTAATATAAA'\n",
    "reversed_dna = ''.join(reversed(dna))\n",
    "print(reversed_dna)\n",
    "\n",
    "\n",
    "\n"
   ]
  },
  {
   "cell_type": "code",
   "execution_count": 9,
   "id": "4f0dd74f-f118-4318-bd6e-c6eb89f0454a",
   "metadata": {},
   "outputs": [
    {
     "name": "stdout",
     "output_type": "stream",
     "text": [
      "TTTATATTACGCCTCCGGAGCCCTATATAGCCGCCTCGGGATTTTT\n"
     ]
    }
   ],
   "source": [
    "comp_dna = [ ]\n",
    "reversed_dna = 'AAATATAATGCGGAGGCCTCGGGATATATCGGCGGAGCCCTAAAAA'\n",
    "\n",
    "for nuc in reversed_dna:\n",
    "    if nuc == 'A':\n",
    "        comp_dna.append('T')\n",
    "    elif nuc == 'T':\n",
    "        comp_dna.append('A')\n",
    "    elif nuc == 'G':\n",
    "        comp_dna.append('C')\n",
    "    elif nuc == 'C':\n",
    "        comp_dna.append('G')\n",
    "    \n",
    "print(''.join(comp_dna))"
   ]
  },
  {
   "cell_type": "markdown",
   "id": "51e421d9-ae6c-43e8-9f10-7017ee04d0e6",
   "metadata": {},
   "source": [
    "## Exercise 4\n",
    "## Expand the code to accomodate deposits."
   ]
  },
  {
   "cell_type": "code",
   "execution_count": 11,
   "id": "6b18088d-eb61-4937-b384-67dffaad3160",
   "metadata": {},
   "outputs": [
    {
     "name": "stdin",
     "output_type": "stream",
     "text": [
      "Please enter 'b' to check balance 'd' to deposit or 'w' to withdraw:  d\n",
      "Enter amount to deposit:  60000\n"
     ]
    },
    {
     "name": "stdout",
     "output_type": "stream",
     "text": [
      "Anything else?\n"
     ]
    },
    {
     "name": "stdin",
     "output_type": "stream",
     "text": [
      "Enter b for balance, w to withdraw or q to quit:  b\n"
     ]
    },
    {
     "name": "stdout",
     "output_type": "stream",
     "text": [
      "Your balance is: 110000\n",
      "Anything else?\n"
     ]
    },
    {
     "name": "stdin",
     "output_type": "stream",
     "text": [
      "Enter b for balance, w to withdraw or q to quit:  q\n"
     ]
    },
    {
     "name": "stdout",
     "output_type": "stream",
     "text": [
      "q\n"
     ]
    }
   ],
   "source": [
    "acountbal = 50000\n",
    "choice = input(\"Please enter 'b' to check balance 'd' to deposit or 'w' to withdraw: \")\n",
    "while choice != 'q':\n",
    "    if choice.lower() in ('w','b','d'):\n",
    "        if choice.lower() == 'b':\n",
    "            print(\"Your balance is: %d\" % acountbal)\n",
    "            print(\"Anything else?\")\n",
    "            choice = input(\"Enter b for balance, w to withdraw or q to quit: \")\n",
    "            print(choice.lower())\n",
    "        elif choice.lower() == 'd':\n",
    "            deposit = float(input(\"Enter amount to deposit: \"))\n",
    "            acountbal = acountbal + deposit\n",
    "            print('Anything else?')\n",
    "            choice = input(\"Enter b for balance, w to withdraw or q to quit: \")\n",
    "        else:\n",
    "            withdraw = float(input(\"Enter amount to withdraw: \"))\n",
    "            if withdraw <= acountbal:\n",
    "                print(\"here is your: %.2f\" % withdraw)\n",
    "                acountbal = acountbal - withdraw\n",
    "                print(\"Anything else?\")\n",
    "                choice = input(\"Enter b for balance, w to withdraw or q to quit: \")\n",
    "                #choice = 'q'\n",
    "            else:\n",
    "                print(\"You have insufficient funds: %.2f\" % acountbal)\n",
    "    else:\n",
    "        print(\"Wrong choice!\")\n",
    "        choice = input(\"Please enter 'b' to check balance or 'w' to withdraw: \")"
   ]
  },
  {
   "cell_type": "markdown",
   "id": "34e62b12-5a54-49d2-9e21-bf02316b0e8b",
   "metadata": {},
   "source": [
    "## Exercise 5\n",
    "## Create a while loop that starts with x = 0 and increments x until x is equal to 5. Each iteration should print to the console."
   ]
  },
  {
   "cell_type": "code",
   "execution_count": 13,
   "id": "5e12e936-6b13-45ce-81fa-d111a7dadf7c",
   "metadata": {},
   "outputs": [
    {
     "name": "stdout",
     "output_type": "stream",
     "text": [
      "0\n",
      "1\n",
      "2\n",
      "3\n",
      "4\n",
      "5\n"
     ]
    }
   ],
   "source": [
    "x = 0\n",
    "while x <= 5:\n",
    "    print(x)\n",
    "    x = x + 1"
   ]
  },
  {
   "cell_type": "markdown",
   "id": "5ec93cfb-6e9f-4cbf-9444-e8143d292842",
   "metadata": {},
   "source": [
    " ## Exercise 6\n",
    " ## Repeat the previous problem, but the loop will skip printing x = 5 to the console but will print values of x from 6 to 10."
   ]
  },
  {
   "cell_type": "code",
   "execution_count": null,
   "id": "68e7cd12-182d-4712-90cd-58e6f29f5aa7",
   "metadata": {},
   "outputs": [],
   "source": [
    "x = 0\n",
    "while x <=10:\n",
    "    if x!= 5:\n",
    "print(x)\n",
    "        x = i + 1\n",
    "        \n",
    "        "
   ]
  },
  {
   "cell_type": "code",
   "execution_count": null,
   "id": "02771e04-d7be-446a-9d77-dd8609960a80",
   "metadata": {},
   "outputs": [],
   "source": []
  }
 ],
 "metadata": {
  "kernelspec": {
   "display_name": "Python 3 (ipykernel)",
   "language": "python",
   "name": "python3"
  },
  "language_info": {
   "codemirror_mode": {
    "name": "ipython",
    "version": 3
   },
   "file_extension": ".py",
   "mimetype": "text/x-python",
   "name": "python",
   "nbconvert_exporter": "python",
   "pygments_lexer": "ipython3",
   "version": "3.9.7"
  }
 },
 "nbformat": 4,
 "nbformat_minor": 5
}
