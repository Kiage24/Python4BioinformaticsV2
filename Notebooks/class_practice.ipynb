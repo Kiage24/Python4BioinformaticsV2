{
 "cells": [
  {
   "cell_type": "markdown",
   "id": "2df8a4f5-8c76-49ab-a83a-6f86b3b7d6d6",
   "metadata": {},
   "source": [
    "## Exercise 1\n",
    "# Calculate GC AND AT content of trna"
   ]
  },
  {
   "cell_type": "code",
   "execution_count": null,
   "id": "8436b36d-5bad-4092-bff7-bc7c480994b5",
   "metadata": {},
   "outputs": [],
   "source": [
    "trna='AAGGGCTTAGCTTAATTAAAGTGGCTGATTTGCGTTCAGTTGATGCAGAGTGGGGTTTTGCAGTCCTTA'\n",
    "print(trna.count('A') + trna.count('T') / len(trna) * 100)\n"
   ]
  },
  {
   "cell_type": "code",
   "execution_count": 8,
   "id": "f7d56bae-1825-468a-928e-baf876ad96a5",
   "metadata": {},
   "outputs": [
    {
     "name": "stdout",
     "output_type": "stream",
     "text": [
      "34.04347826086956\n"
     ]
    }
   ],
   "source": [
    "A_count = trna.count('A')\n",
    "T_count = trna.count('T')\n",
    "G_count = trna.count('G')\n",
    "C_count = trna.count('C')\n",
    "print(G_count + C_count / len(trna) * 100)"
   ]
  },
  {
   "cell_type": "markdown",
   "id": "95ef40f3-d94a-4df9-b89b-9d8ff52fb39d",
   "metadata": {},
   "source": [
    "## Exercise 2\n",
    "## Given the following amino acid sequence (LVADVAEKTDLSKAKATMNKMDEVIDAVFA), find the first, last and the 5th amino acids in the sequence. \n"
   ]
  },
  {
   "cell_type": "code",
   "execution_count": 15,
   "id": "95e55480-c130-48be-a8c3-6c17e18bfe82",
   "metadata": {},
   "outputs": [
    {
     "name": "stdout",
     "output_type": "stream",
     "text": [
      "The first, last and 5th amino acids are L A A\n"
     ]
    }
   ],
   "source": [
    "s = 'LVADVAEKTDLSKAKATMNKMDEVIDAVFA'\n",
    "print ('The first, last and 5th amino acids are', s[:1] , s[-1], s[5:6])\n",
    "        "
   ]
  },
  {
   "cell_type": "markdown",
   "id": "2659e32b-565a-4d88-8823-64dc51e56e44",
   "metadata": {},
   "source": [
    "## The above amino acid is a bacterial restriction enzyme that recognizes \"TCCGGA\". Find the first restriction site in the following sequence: AAAAATCCCGAGGCGGCTATATAGGGCTCCGGAGGCGTAATATAAAA"
   ]
  },
  {
   "cell_type": "code",
   "execution_count": 19,
   "id": "47dccc1f-a4b0-47a0-9fb7-2b0c0173fa41",
   "metadata": {},
   "outputs": [
    {
     "name": "stdout",
     "output_type": "stream",
     "text": [
      "The first restriction site is at  27\n"
     ]
    }
   ],
   "source": [
    "s = 'AAAAATCCCGAGGCGGCTATATAGGGCTCCGGAGGCGTAATATAAAA'\n",
    "print('The first restriction site is at ' , s.index('TCCGGA') )"
   ]
  },
  {
   "cell_type": "markdown",
   "id": "bbc1c26f-048c-45ed-bbc5-6796c5e45206",
   "metadata": {},
   "source": [
    "## Exercise 3\n",
    "## Using strings, lists, tuples and dictionaries concepts, find the reverse complement of AAAAATCCCGAGGCGGCTATATAGGGCTCCGGAGGCGTAATATAAAA\n"
   ]
  },
  {
   "cell_type": "code",
   "execution_count": 62,
   "id": "a1291758-8237-4c60-884e-4da2894dd999",
   "metadata": {},
   "outputs": [
    {
     "name": "stdout",
     "output_type": "stream",
     "text": [
      "AAATATAATGCGGAGGCCTCGGGATATATCGGCGGAGCCCTAAAAA\n"
     ]
    }
   ],
   "source": [
    "dna = 'AAAAATCCCGAGGCGGCTATATAGGGCTCCGGAGGCGTAATATAAA'\n",
    "reversed_dna = ''.join(reversed(dna))\n",
    "print(reversed_dna)\n",
    "\n",
    "\n",
    "\n"
   ]
  },
  {
   "cell_type": "code",
   "execution_count": null,
   "id": "4f0dd74f-f118-4318-bd6e-c6eb89f0454a",
   "metadata": {},
   "outputs": [],
   "source": [
    "comp_dna = [ ]\n",
    "for nuc in reversed_dna:\n",
    "    if nuc == A:\n",
    "        comp_dna = "
   ]
  }
 ],
 "metadata": {
  "kernelspec": {
   "display_name": "Python 3 (ipykernel)",
   "language": "python",
   "name": "python3"
  },
  "language_info": {
   "codemirror_mode": {
    "name": "ipython",
    "version": 3
   },
   "file_extension": ".py",
   "mimetype": "text/x-python",
   "name": "python",
   "nbconvert_exporter": "python",
   "pygments_lexer": "ipython3",
   "version": "3.9.7"
  }
 },
 "nbformat": 4,
 "nbformat_minor": 5
}
